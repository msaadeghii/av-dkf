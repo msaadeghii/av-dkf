{
 "cells": [
  {
   "cell_type": "code",
   "execution_count": null,
   "id": "9467e79c",
   "metadata": {},
   "outputs": [],
   "source": [
    "from dvae.SE.speech_enhancement import SpeechEnhancement\n",
    "import os\n",
    "import torch\n",
    "import sys\n",
    "import soundfile as sf"
   ]
  },
  {
   "cell_type": "markdown",
   "id": "5ca35c4c",
   "metadata": {},
   "source": [
    "## Test signals"
   ]
  },
  {
   "cell_type": "code",
   "execution_count": null,
   "id": "d52e2d40",
   "metadata": {},
   "outputs": [],
   "source": [
    "mix_file = './data/x.wav' # noisy speech signal\n",
    "speech_file = './data/s.wav' # clean speech signal\n",
    "video_file = './data/v.npy' # video signal"
   ]
  },
  {
   "cell_type": "markdown",
   "id": "edffa89c",
   "metadata": {},
   "source": [
    "## Define input parameters"
   ]
  },
  {
   "cell_type": "code",
   "execution_count": null,
   "id": "cd44a02d",
   "metadata": {},
   "outputs": [],
   "source": [
    "verbose = True # show the progress\n",
    "vae_mode = \"AV-VAE\" # VAE model. Non-dynamical: A-VAE, AV-VAE. Dynamical: A-DKF, AV-DKF.\n",
    "algo_type = \"peem\" # SE algorithm. Choose one of {peem, gpeem} for non-dynamical VAE models, and one of {dpeem, gdpeem} for the dynamical versions.\n",
    "\n",
    "save_flg = False\n",
    "niter = 100 # number of EM iterations\n",
    "fs = 16000 # sampling frequency\n",
    "\n",
    "device = 'cuda' if torch.cuda.is_available() else 'cpu'\n",
    "\n",
    "if vae_mode == 'A-VAE':\n",
    "    saved_model = './saved_model/A-VAE/A-VAE.pt'\n",
    "    cfg_file = './saved_model/A-VAE/config.ini'\n",
    "\n",
    "if vae_mode == 'AV-VAE':\n",
    "    saved_model = './saved_model/AV-VAE/AV-VAE.pt'\n",
    "    cfg_file = './saved_model/AV-VAE/config.ini'\n",
    "\n",
    "if vae_mode == 'A-DKF':\n",
    "    saved_model = './saved_model/A-DKF/A-DKF.pt'\n",
    "    cfg_file = './saved_model/A-DKF/config.ini'\n",
    "\n",
    "if vae_mode == 'AV-DKF':\n",
    "    saved_model = './saved_model/AV-DKF/AV-DKF.pt'\n",
    "    cfg_file = './saved_model/AV-DKF/config.ini'\n",
    "\n",
    "\n",
    "path_model, _ = os.path.split(saved_model)\n",
    "_, model_name = os.path.split(path_model)\n",
    "\n",
    "output_dir = \"./results\"\n",
    "if not os.path.isdir(output_dir):\n",
    "    os.makedirs(output_dir)"
   ]
  },
  {
   "cell_type": "markdown",
   "id": "cfe19405",
   "metadata": {},
   "source": [
    "## Run the SE algorithm"
   ]
  },
  {
   "cell_type": "code",
   "execution_count": null,
   "id": "8d38a337",
   "metadata": {},
   "outputs": [],
   "source": [
    "se = SpeechEnhancement(saved_model = saved_model, output_dir = output_dir, nmf_rank = 8, niter = niter, device = device, save_flg = save_flg, verbose = verbose, demo = True)\n",
    "\n",
    "# Run SE & evaluations\n",
    "info = se.run([mix_file, speech_file, video_file, algo_type])\n",
    "\n",
    "print('Input scores - SI-SDR: {} -- PESQ: {} --- STOI: {}'.format(info['input_scores'][0], info['input_scores'][1], info['input_scores'][2]))\n",
    "print('Output scores - SI-SDR: {} -- PESQ: {} --- STOI: {}'.format(info['output_scores'][0], info['output_scores'][1], info['output_scores'][2]))"
   ]
  },
  {
   "cell_type": "markdown",
   "id": "b91dc706",
   "metadata": {},
   "source": [
    "## Save the speech signals"
   ]
  },
  {
   "cell_type": "code",
   "execution_count": null,
   "id": "3c6a0f03",
   "metadata": {},
   "outputs": [],
   "source": [
    "save_dir = os.path.join(output_dir, vae_mode, algo_type)\n",
    "if not os.path.isdir(save_dir):\n",
    "    os.makedirs(save_dir)\n",
    "\n",
    "sf.write(os.path.join(save_dir,'est_speech.wav'), info[\"S_hat_wave\"], fs)\n",
    "sf.write(os.path.join(save_dir,'est_noise.wav'), info[\"N_hat_wave\"], fs)"
   ]
  }
 ],
 "metadata": {
  "kernelspec": {
   "display_name": "Python 3 (ipykernel)",
   "language": "python",
   "name": "python3"
  },
  "language_info": {
   "codemirror_mode": {
    "name": "ipython",
    "version": 3
   },
   "file_extension": ".py",
   "mimetype": "text/x-python",
   "name": "python",
   "nbconvert_exporter": "python",
   "pygments_lexer": "ipython3",
   "version": "3.10.4"
  }
 },
 "nbformat": 4,
 "nbformat_minor": 5
}
